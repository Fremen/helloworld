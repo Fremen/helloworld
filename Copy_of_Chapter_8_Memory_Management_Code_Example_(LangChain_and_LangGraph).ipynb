{
  "cells": [
    {
      "cell_type": "markdown",
      "metadata": {
        "id": "view-in-github",
        "colab_type": "text"
      },
      "source": [
        "<a href=\"https://colab.research.google.com/github/Fremen/helloworld/blob/master/Copy_of_Chapter_8_Memory_Management_Code_Example_(LangChain_and_LangGraph).ipynb\" target=\"_parent\"><img src=\"https://colab.research.google.com/assets/colab-badge.svg\" alt=\"Open In Colab\"/></a>"
      ]
    },
    {
      "cell_type": "code",
      "source": [
        "from google.adk.memory import VertexAiMemoryBankService\n",
        "\n",
        "agent_engine_id = agent_engine.api_resource.name.split(\"/\")[-1]\n",
        "\n",
        "memory_service = VertexAiMemoryBankService(\n",
        "    project=\"PROJECT_ID\",\n",
        "    location=\"LOCATION\",\n",
        "    agent_engine_id=agent_engine_id\n",
        ")\n",
        "\n",
        "...\n",
        "\n",
        "session = await session_service.get_session(\n",
        "    app_name=app_name,\n",
        "    user_id=\"USER_ID\",\n",
        "    session_id=session.id\n",
        ")\n",
        "await memory_service.add_session_to_memory(session)"
      ],
      "outputs": [],
      "execution_count": null,
      "metadata": {
        "id": "2EzLzlDUViAT"
      }
    }
  ],
  "metadata": {
    "colab": {
      "provenance": [],
      "include_colab_link": true
    },
    "kernelspec": {
      "display_name": "Python 3",
      "name": "python3"
    }
  },
  "nbformat": 4,
  "nbformat_minor": 0
}