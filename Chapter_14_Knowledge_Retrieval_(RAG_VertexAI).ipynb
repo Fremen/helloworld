{
  "nbformat": 4,
  "nbformat_minor": 0,
  "metadata": {
    "colab": {
      "provenance": [],
      "include_colab_link": true
    },
    "kernelspec": {
      "name": "python3",
      "display_name": "Python 3"
    },
    "language_info": {
      "name": "python"
    }
  },
  "cells": [
    {
      "cell_type": "markdown",
      "metadata": {
        "id": "view-in-github",
        "colab_type": "text"
      },
      "source": [
        "<a href=\"https://colab.research.google.com/github/Fremen/helloworld/blob/master/Chapter_14_Knowledge_Retrieval_(RAG_VertexAI).ipynb\" target=\"_parent\"><img src=\"https://colab.research.google.com/assets/colab-badge.svg\" alt=\"Open In Colab\"/></a>"
      ]
    },
    {
      "cell_type": "code",
      "execution_count": null,
      "metadata": {
        "id": "AQ58juiUym3c"
      },
      "outputs": [],
      "source": [
        "# Import the necessary VertexAiRagMemoryService class from the google.adk.memory module.\n",
        "from google.adk.memory import VertexAiRagMemoryService\n",
        "\n",
        "\n",
        "RAG_CORPUS_RESOURCE_NAME = \"projects/your-gcp-project-id/locations/us-central1/ragCorpora/your-corpus-id\"\n",
        "\n",
        "# Define an optional parameter for the number of top similar results to retrieve.\n",
        "# This controls how many relevant document chunks the RAG service will return.\n",
        "SIMILARITY_TOP_K = 5\n",
        "\n",
        "# Define an optional parameter for the vector distance threshold.\n",
        "# This threshold determines the maximum semantic distance allowed for retrieved results;\n",
        "# results with a distance greater than this value might be filtered out.\n",
        "VECTOR_DISTANCE_THRESHOLD = 0.7\n",
        "\n",
        "# Initialize an instance of VertexAiRagMemoryService.\n",
        "# This sets up the connection to your Vertex AI RAG Corpus.\n",
        "# - rag_corpus: Specifies the unique identifier for your RAG Corpus.\n",
        "# - similarity_top_k: Sets the maximum number of similar results to fetch.\n",
        "# - vector_distance_threshold: Defines the similarity threshold for filtering results.\n",
        "memory_service = VertexAiRagMemoryService(\n",
        "    rag_corpus=RAG_CORPUS_RESOURCE_NAME,\n",
        "    similarity_top_k=SIMILARITY_TOP_K,\n",
        "    vector_distance_threshold=VECTOR_DISTANCE_THRESHOLD\n",
        ")"
      ]
    }
  ]
}