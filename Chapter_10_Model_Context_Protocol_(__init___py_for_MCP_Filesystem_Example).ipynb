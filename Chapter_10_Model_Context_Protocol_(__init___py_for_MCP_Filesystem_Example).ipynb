{
  "cells": [
    {
      "cell_type": "markdown",
      "metadata": {
        "id": "view-in-github",
        "colab_type": "text"
      },
      "source": [
        "<a href=\"https://colab.research.google.com/github/Fremen/helloworld/blob/master/Chapter_10_Model_Context_Protocol_(__init___py_for_MCP_Filesystem_Example).ipynb\" target=\"_parent\"><img src=\"https://colab.research.google.com/assets/colab-badge.svg\" alt=\"Open In Colab\"/></a>"
      ]
    },
    {
      "cell_type": "code",
      "source": [
        "# ./adk_agent_samples/mcp_agent/__init__.py\n",
        "from . import agent"
      ],
      "outputs": [],
      "execution_count": null,
      "metadata": {
        "id": "tHBUxLO7HFV7"
      }
    }
  ],
  "metadata": {
    "colab": {
      "provenance": [],
      "include_colab_link": true
    },
    "kernelspec": {
      "display_name": "Python 3",
      "name": "python3"
    }
  },
  "nbformat": 4,
  "nbformat_minor": 0
}